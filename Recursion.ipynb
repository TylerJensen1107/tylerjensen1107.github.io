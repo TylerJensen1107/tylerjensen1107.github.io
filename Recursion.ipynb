{
 "cells": [
  {
   "cell_type": "markdown",
   "metadata": {},
   "source": [
    "# Tyler Jensen\n",
    "\n",
    "# Recursive Backtracking || Brute Force Solutions\n",
    "\n",
    "# Why use recursion?\n",
    "You now have a couple tools to solve programming, namely iteration and recursion. Both can be used in many situations, but recursion allows us to solve problems in a way that human beings cannot.\n",
    "\n",
    "For example, let's consider guessing someone's PIN. 8800 is mine. A human being could guess every single possible combination of numbers for a PIN (10,000 possible combinations), but that would take forever. 10,000 guesses is actually a relatively small number of guesses for a computer.\n",
    "\n",
    "While it's possible to solve this with iteration, it's much easier to do with recursion, and specifically recursive backtracking.\n",
    "\n",
    "#Visualizing Recursive Backtracking\n",
    "\n",
    "\n",
    "\n",
    "# How is recursive backtracking different?\n",
    "\n",
    "Recursive backtracking still follows all the principles of recursion. Those being :\n",
    "1. A recursive algorithm must have a base case.\n",
    "2. A recursive algorithm must change its state and move toward the base case.\n",
    "3. A recursive algorithm must call itself, recursively.\n",
    "\n",
    "Recursive backtracking will always have a base case, or it will go forever. In recursive backtracking, we add a concept called \"Choose, Explore, Unchoose\". When we want to change our state and move towards the base case (the second principles), we will generally have a few choices to make (following the PIN example, 10 choices, one for each number). When we implement recursive backtracking, we do this with Choose, Explore, Unchoose.\n",
    "\n"
   ]
  },
  {
   "cell_type": "markdown",
   "metadata": {},
   "source": [
    "# Problem 1 : Pathfinding\n",
    "\n",
    "Another use for recursive backtracking is finding all the possible different paths to a point. Consider a basic graph; we may want to find all the paths from the origin to the point (5, 5) given that we can only go up or right. So for example, two possible paths might be :\n",
    "Up Up Up Up Up Right Right Right Right Right\n",
    "Up Up Up UP Right Right Right Right Right Up\n",
    "\n",
    "Base Case :\n",
    "Generally the easiest case, in this situation if the coordinates we are given are (0, 0)\n",
    "\n",
    "Recursive Case :\n",
    "At every point, we have two choices to make (How many recursive calls do you think we will make each time through the method?)\n",
    "We have to move towards the base case (subtract 1 from X or Y to eventually get to (0, 0))\n",
    "\n",
    "\n",
    "\n"
   ]
  },
  {
   "cell_type": "code",
   "execution_count": 10,
   "metadata": {
    "collapsed": false
   },
   "outputs": [],
   "source": [
    "def pathTo(x, y, path):\n",
    "    #basecase\n",
    "    if x == 0 and y == 0:\n",
    "        print path\n",
    "        \n",
    "    #recursive case \n",
    "    #this is an elif because we don't want to recurse forever once we are too far to the right, or too high up\n",
    "    elif x >= 0 and y >= 0:\n",
    "        pathTo(x - 1, y, path + \"Right \") #choose right, explore\n",
    "        pathTo(x, y - 1, path + \"Up \") #choose up, explore\n",
    "    \n",
    "#pathTo(5, 5, \"\")"
   ]
  },
  {
   "cell_type": "markdown",
   "metadata": {},
   "source": [
    "Questions?\n",
    "\n",
    "What happens if we change the order?\n",
    "How can we make another choice?\n",
    "Why don't we have to Unchoose?\n",
    "How do we stop from going to far?"
   ]
  },
  {
   "cell_type": "code",
   "execution_count": null,
   "metadata": {
    "collapsed": true
   },
   "outputs": [],
   "source": []
  },
  {
   "cell_type": "markdown",
   "metadata": {},
   "source": [
    "# Problem 2 : PIN Guesser\n",
    "\n",
    "Given a PIN, we can use recursive backtracking to \"brute force\" our way into a solution. This means we are essentially just exhuasting all possible guesses.\n",
    "\n",
    "We are going to need a second parameter here to start out our soluation\n",
    "\n",
    "Base Case :\n",
    "The PIN numbers match\n",
    "\n",
    "Recursive Case :\n",
    "At every point, we have 10 choices to make (one for each number). This looks more like a loop with a recursive call rather than 10 recursive calls."
   ]
  },
  {
   "cell_type": "code",
   "execution_count": 24,
   "metadata": {
    "collapsed": false
   },
   "outputs": [
    {
     "name": "stdout",
     "output_type": "stream",
     "text": [
      "8800\n"
     ]
    }
   ],
   "source": []
  },
  {
   "cell_type": "markdown",
   "metadata": {},
   "source": [
    "Questions?\n",
    "\n",
    "Why don't we have to unchoose?"
   ]
  },
  {
   "cell_type": "markdown",
   "metadata": {},
   "source": [
    "# Problem 3 : Climbing Stairs\n",
    "\n",
    "We've all climbed stairs two stairs at a time. Given a number of steps, how many different combinations of stepping once and stepping twice can we climb the given staircase in?\n",
    "\n",
    "Base Case :\n",
    "The easiest staircase to climb is when we're already at the top, so 0 stairs, or 0 steps left.\n",
    "\n",
    "Recursive Case :\n",
    "At every point, we have 2 choices to make. 1 step or 2 steps.\n",
    "\n",
    "What makes this problem more difficult is how we are going to choose to store these steps. In this case, a list is the easiest. Every time we make a choice we will append either 1 or 2 to the list.\n",
    "We finally get to see Unchoose in action here! We have to undo our choice of 1 step before we explore solutions with 2 steps.\n"
   ]
  },
  {
   "cell_type": "code",
   "execution_count": 39,
   "metadata": {
    "collapsed": false
   },
   "outputs": [
    {
     "name": "stdout",
     "output_type": "stream",
     "text": [
      "            __|\n",
      "         __|\n",
      "      __|\n",
      "   __|\n",
      "__|\n",
      "\n",
      "[1, 1, 1, 1, 1]\n",
      "[1, 1, 1, 2]\n",
      "[1, 1, 2, 1]\n",
      "[1, 2, 1, 1]\n",
      "[1, 2, 2]\n",
      "[2, 1, 1, 1]\n",
      "[2, 1, 2]\n",
      "[2, 2, 1]\n"
     ]
    }
   ],
   "source": []
  },
  {
   "cell_type": "code",
   "execution_count": null,
   "metadata": {
    "collapsed": true
   },
   "outputs": [],
   "source": []
  }
 ],
 "metadata": {
  "kernelspec": {
   "display_name": "Python 2",
   "language": "python",
   "name": "python2"
  },
  "language_info": {
   "codemirror_mode": {
    "name": "ipython",
    "version": 2
   },
   "file_extension": ".py",
   "mimetype": "text/x-python",
   "name": "python",
   "nbconvert_exporter": "python",
   "pygments_lexer": "ipython2",
   "version": "2.7.11"
  }
 },
 "nbformat": 4,
 "nbformat_minor": 0
}
