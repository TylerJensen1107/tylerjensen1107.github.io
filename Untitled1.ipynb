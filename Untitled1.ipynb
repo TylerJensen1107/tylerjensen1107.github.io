{
 "cells": [
  {
   "cell_type": "markdown",
   "metadata": {},
   "source": [
    "# Problem 1 : Pathfinding\n",
    "\n",
    "Another use for recursive backtracking is finding all the possible different paths to a point. Consider a basic graph; we may want to find all the paths from the origin to the point (5, 5) given that we can only go up or right. So for example, two possible paths might be :\n",
    "Up Up Up Up Up Right Right Right Right Right\n",
    "Up Up Up UP Right Right Right Right Right Up\n",
    "\n",
    "Base Case :\n",
    "Generally the easiest case, in this situation if the coordinates we are given are (0, 0)\n",
    "\n",
    "Recursive Case :\n",
    "At every point, we have two choices to make (How many recursive calls do you think we will make each time through the method?)\n",
    "We have to move towards the base case (subtract 1 from X or Y to eventually get to (0, 0))"
   ]
  },
  {
   "cell_type": "code",
   "execution_count": 9,
   "metadata": {
    "collapsed": false
   },
   "outputs": [
    {
     "name": "stdout",
     "output_type": "stream",
     "text": [
      "252\n"
     ]
    }
   ],
   "source": [
    "def Pathfind(x, y):\n",
    "    if x == 0 and y == 0:\n",
    "        return 1\n",
    "    elif x > -1 and y > -1: \n",
    "        return Pathfind(x - 1, y) + Pathfind(x, y - 1)\n",
    "    else:\n",
    "        return 0\n",
    "\n",
    "        \n",
    "print Pathfind(5, 5)"
   ]
  },
  {
   "cell_type": "code",
   "execution_count": null,
   "metadata": {
    "collapsed": true
   },
   "outputs": [],
   "source": []
  }
 ],
 "metadata": {
  "kernelspec": {
   "display_name": "Python 2",
   "language": "python",
   "name": "python2"
  },
  "language_info": {
   "codemirror_mode": {
    "name": "ipython",
    "version": 2
   },
   "file_extension": ".py",
   "mimetype": "text/x-python",
   "name": "python",
   "nbconvert_exporter": "python",
   "pygments_lexer": "ipython2",
   "version": "2.7.11"
  }
 },
 "nbformat": 4,
 "nbformat_minor": 0
}
